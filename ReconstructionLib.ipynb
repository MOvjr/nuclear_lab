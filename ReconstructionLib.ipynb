{
 "cells": [
  {
   "cell_type": "code",
   "execution_count": 46,
   "metadata": {},
   "outputs": [
    {
     "name": "stdout",
     "output_type": "stream",
     "text": [
      "1.5707963267948966\n",
      "1.5707963267948966\n"
     ]
    }
   ],
   "source": [
    "#Reconstruction Lines Library\n",
    "import math\n",
    "import LinesLib\n",
    "\n",
    "#Distance Function ======\n",
    "def distance_R3(point1,point2):\n",
    "    sum=0\n",
    "    for i in range (len(point1)):\n",
    "        sum+=(point1[i]-point2[i])**2\n",
    "    d=math.sqrt(sum)\n",
    "    return d\n",
    "\n",
    "# Reconstructed Theta Function =====\n",
    "def reconstructed_theta(z_bottom,z_top,distance):     #Bottom/Top\n",
    "    new_theta=math.acos((z_bottom-z_top)/distance)\n",
    "    return new_theta\n",
    "\n",
    "def reconstructed_fi(x_bottom,x_top,z_bottom,z_top,distance):\n",
    "    x_y_distance=math.sqrt((distance**2)-((z_bottom-z_top)**2))\n",
    "    fi=math.acos((x_top-x_bottom)/x_y_distance)\n",
    "    return fi\n",
    "\n",
    "def Energy_muon(velocity):\n",
    "    velocity/=2.99792458E8\n",
    "    mass=0.1057 #GeV/c^2\n",
    "    return ((1/math.sqrt(1-(velocity**2)))-1)*mass\n",
    "\n",
    "Bottom_point=[0,0,0]\n",
    "Top_Point=[0,1,0]\n",
    "#print(reconstructed_velocity(24,2))\n",
    "a=distance_R3(Bottom_point,Top_Point)\n",
    "print(reconstructed_theta(Bottom_point[2],Top_Point[2],a))\n",
    "print(reconstructed_fi(0,0,0,0,1))\n",
    "\n",
    "def reconstructed_line(transformed_intersections_array,new_time_detectors):\n",
    "    reconstructed_line=LinesLib.lines([0.,0.,0.],[0.,0.,0.],0,0,0)\n",
    "    for i in range(len(transformed_intersections_array[0])):        # 0 - Bottom / 1 Top\n",
    "        distance=distance_R3(transformed_intersections_array[0][i],transformed_intersections_array[1][i])\n",
    "        velocity=distance/(new_time_detectors[0][i]-new_time_detectors[1][i])\n",
    "        reconstructed_line.theta=reconstructed_theta(transformed_intersections_array[0][i][2],transformed_intersections_array[1][i][2],distance)\n",
    "        reconstructed_line.fi=reconstructed_fi(transformed_intersections_array[0][i][0],transformed_intersections_array[1][i][0],transformed_intersections_array[0][i][2],transformed_intersections_array[1][i][2],distance)\n",
    "        reconstructed_line.muon_energy=Energy_muon(velocity)\n",
    "        reconstructed_line.direction_vect[0]=math.sin(reconstructed_line.theta)*math.cos(reconstructed_line.fi)*velocity\n",
    "        reconstructed_line.direction_vect[1]=math.sin(reconstructed_line.theta)*math.sin(reconstructed_line.fi)*velocity\n",
    "        reconstructed_line.direction_vect[2]=-math.cos(reconstructed_line.theta)*velocity\n",
    "        for j in range(len(reconstructed_line.inipoint)):\n",
    "            reconstructed_line.inipoint[j]=transformed_intersections_array[0][j]-reconstructed_line.direction_vect[j]*new_time_detectors[0][i]\n",
    "    return reconstructed_line\n"
   ]
  }
 ],
 "metadata": {
  "kernelspec": {
   "display_name": "Python 3",
   "language": "python",
   "name": "python3"
  },
  "language_info": {
   "codemirror_mode": {
    "name": "ipython",
    "version": 3
   },
   "file_extension": ".py",
   "mimetype": "text/x-python",
   "name": "python",
   "nbconvert_exporter": "python",
   "pygments_lexer": "ipython3",
   "version": "3.12.2"
  }
 },
 "nbformat": 4,
 "nbformat_minor": 2
}
