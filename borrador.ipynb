{
 "cells": [
  {
   "cell_type": "code",
   "execution_count": 148,
   "metadata": {},
   "outputs": [
    {
     "name": "stdout",
     "output_type": "stream",
     "text": [
      "[197.23865877712032, 189.3491124260355, 167.65285996055223, 138.0670611439842, 136.094674556213, 71.0059171597633, 55.22682445759369, 19.72386587771203, 21.696252465483237, 3.944773175542406]\n",
      "g = 1000\n",
      "[197, 189, 168, 138, 136, 71, 55, 20, 22, 4]\n",
      "\n",
      "1000 0\n"
     ]
    }
   ],
   "source": [
    "import numpy as np\n",
    "import random\n",
    "\n",
    "def prob(x):\n",
    "    return (4/np.pi)*(np.cos(x)**2)\n",
    "\n",
    "def distribtetha(N,R):\n",
    "#N Number of total random points\n",
    "#R Number of intervals to divide the domain of P(tetha)\n",
    "    H=(np.pi/2)/R\n",
    "    zones=[]; q=0\n",
    "    #zones=np.zeros(R, dtype=float)\n",
    "    for i in range(R):\n",
    "        L=100          #N° points inside the i-interval\n",
    "        points_intx=[]\n",
    "        points_inty=[]\n",
    "        #points_intx=np.zeros(L, dtype=float)  \n",
    "        #points_inty=np.zeros(L, dtype=float)\n",
    "        k=0\n",
    "        for j in range(L):\n",
    "            points_intx.append(random.uniform(i*H,(i+1)*H))\n",
    "            points_inty.append(random.uniform(0,4/np.pi))\n",
    "            #points_intx[j]=random.uniform(i*H,(i+1)*H)\n",
    "            #points_inty[j]=random.uniform(0,4/np.pi)\n",
    "            if points_inty[j]<=prob(points_intx[j]):\n",
    "                k+=1\n",
    "        zones.append((k/L)*H*4/np.pi)\n",
    "        q+=zones[i]\n",
    "        #zones[i]=(k/L)*H*4/np.pi\n",
    "    c=N/q\n",
    "    for i in range(len(zones)):\n",
    "        zones[i]*=c\n",
    "        #zones[i]=round(zones[i])\n",
    "    return zones\n",
    "\n",
    "N=1000; R=10; b=c=0\n",
    "a=distribtetha(N,R)\n",
    "print(a)\n",
    "w=N\n",
    "\n",
    "for i in range(len(a)):\n",
    "    a[i]=round(a[i])\n",
    "    b+=a[i]\n",
    "    w-=a[i]\n",
    "if w < 0:\n",
    "    a[0]-=round(abs(w))\n",
    "elif w > 0:\n",
    "    a[0]+=round(abs(w))\n",
    "\n",
    "g=0\n",
    "for x in a:\n",
    "    g+=x\n",
    "\n",
    "print(\"g =\",g)\n",
    "\n",
    "\n",
    "print(a)\n",
    "print(\"\")\n",
    "print(b,w)\n",
    "\n",
    "\n",
    "\n",
    "\n",
    "    "
   ]
  }
 ],
 "metadata": {
  "kernelspec": {
   "display_name": "Python 3",
   "language": "python",
   "name": "python3"
  },
  "language_info": {
   "codemirror_mode": {
    "name": "ipython",
    "version": 3
   },
   "file_extension": ".py",
   "mimetype": "text/x-python",
   "name": "python",
   "nbconvert_exporter": "python",
   "pygments_lexer": "ipython3",
   "version": "3.12.2"
  }
 },
 "nbformat": 4,
 "nbformat_minor": 2
}
