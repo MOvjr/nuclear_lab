{
 "cells": [
  {
   "cell_type": "code",
   "execution_count": 25,
   "metadata": {},
   "outputs": [
    {
     "name": "stdout",
     "output_type": "stream",
     "text": [
      "[-4, -2, 0, 2, 4]\n"
     ]
    }
   ],
   "source": [
    "#Binomial distribution with Galton Machine\n",
    "import random\n",
    "def number_ways(n):\n",
    "    a=6; k=0\n",
    "    for i in range(a):\n",
    "        k+=a\n",
    "        a-=1\n",
    "    return a\n",
    "\n",
    "class Galton:\n",
    "    def __init__(self,levels,n):        #n is n° of intervals at the end of machine\n",
    "        self.levels=levels\n",
    "        self.n=n\n",
    "    \n",
    "    def create_machine(self,n):\n",
    "        self.n=n-1\n",
    "        for i in range(n):\n",
    "            self.levels.append(-n+1+2*i)\n",
    "        return self.levels\n",
    "    \n",
    "    def put_ball(self):\n",
    "        for i in range(self.n):\n",
    "            random.\n",
    "                self.levels[j]\n",
    "\n",
    "machine=Galton([],0)\n",
    "test=machine.create_machine(5)\n",
    "\n",
    "\n",
    "print(test)\n",
    "\n"
   ]
  }
 ],
 "metadata": {
  "kernelspec": {
   "display_name": "Python 3",
   "language": "python",
   "name": "python3"
  },
  "language_info": {
   "codemirror_mode": {
    "name": "ipython",
    "version": 3
   },
   "file_extension": ".py",
   "mimetype": "text/x-python",
   "name": "python",
   "nbconvert_exporter": "python",
   "pygments_lexer": "ipython3",
   "version": "3.12.2"
  }
 },
 "nbformat": 4,
 "nbformat_minor": 2
}
