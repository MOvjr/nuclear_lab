{
 "cells": [
  {
   "cell_type": "code",
   "execution_count": 1,
   "metadata": {},
   "outputs": [
    {
     "name": "stdout",
     "output_type": "stream",
     "text": [
      "[[list([0.5, 0.5, 0]) list([0.5, 1.5, 0])]\n",
      " [list([1.5, 0.5, 0]) list([1.5, 1.5, 0])]]\n",
      "[0.1, 5.0, 0]\n",
      "[0.5, 0.0, 0.0]\n"
     ]
    }
   ],
   "source": [
    "# Segunda Tarea\n",
    "\n",
    "import Libsensors\n",
    "\n",
    "sensors=Libsensors.sensors([],2,2,1,1)\n",
    "a=sensors.create_sensors()\n",
    "print(a)\n",
    "point=[0.1,5.,0]\n",
    "r=sensors.check_inside(point)\n",
    "\n",
    "print(point)\n",
    "print(r)\n"
   ]
  }
 ],
 "metadata": {
  "kernelspec": {
   "display_name": "Python 3",
   "language": "python",
   "name": "python3"
  },
  "language_info": {
   "codemirror_mode": {
    "name": "ipython",
    "version": 3
   },
   "file_extension": ".py",
   "mimetype": "text/x-python",
   "name": "python",
   "nbconvert_exporter": "python",
   "pygments_lexer": "ipython3",
   "version": "3.12.2"
  }
 },
 "nbformat": 4,
 "nbformat_minor": 2
}
